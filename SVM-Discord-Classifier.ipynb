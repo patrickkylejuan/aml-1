{
 "cells": [
  {
   "cell_type": "markdown",
   "id": "educational-resource",
   "metadata": {},
   "source": [
    "# Building a Discord Post Classifier using SVM"
   ]
  },
  {
   "cell_type": "markdown",
   "id": "large-logistics",
   "metadata": {},
   "source": [
    "Launch a DSEG moderator bot in discord that helps members post in the right channel. The bot will detect if a member has posted in the correct channel. If it finds that the post is in the wrong channel, it will suggest a correct channel from among the channels in the Community or Help categories. The bot will be active in discord for one week after project deadline, but can stay alive if members like it."
   ]
  },
  {
   "cell_type": "markdown",
   "id": "racial-stephen",
   "metadata": {},
   "source": [
    "## Acceptance Criteria"
   ]
  },
  {
   "cell_type": "markdown",
   "id": "aggregate-hours",
   "metadata": {},
   "source": [
    "For the bot to be enabled in DSEG, it must meet the threshold of 5% false positives on detecting posts in the wrong channel and 90% accuracy in suggesting the correct channel. A test dataset of 50 utterances has been withheld and will be used to evaluate your project upon submission. The test dataset has 3 fields: utterance, guessed-channel, true-channel. Your bot (or model) must determine if guessed channel is false with 95% specificity, and identify the true channel with 90% accuracy. There will be a leaderboard showing the performance rankings of all participants."
   ]
  },
  {
   "cell_type": "markdown",
   "id": "fleet-peace",
   "metadata": {},
   "source": [
    "## Datasets"
   ]
  },
  {
   "cell_type": "markdown",
   "id": "biblical-style",
   "metadata": {},
   "source": [
    "In this repo is utterance-channel-dataset.csv, a dataset consisting of 300 posts and the corresponding appropriate channel for each post."
   ]
  },
  {
   "cell_type": "markdown",
   "id": "experienced-baltimore",
   "metadata": {},
   "source": [
    "## Plan"
   ]
  },
  {
   "cell_type": "markdown",
   "id": "regulated-korean",
   "metadata": {},
   "source": [
    "The plan is to preprocess your text data using TF-IDF (NLP), build a classifier using an SVM (ML), run your code in a Jupyter notebook, and leverage functions from SKLearn. Resources are available below to explain all the above concepts. If you have the time and motivation, a good challenge is to implement SVMs with stochastic gradient descent from scratch. If there is time permitting build a Flask, run it in AWS, use the Discord API, and deploy your moderator bot in our server. Keep in mind that at the halfway point and at completion you will present your work to the community. Make sure to have some progress and work to show at each point to stay accountable and to provide teaching for more novice members of the community."
   ]
  },
  {
   "cell_type": "markdown",
   "id": "listed-frank",
   "metadata": {},
   "source": [
    "## Methodology"
   ]
  },
  {
   "cell_type": "markdown",
   "id": "vulnerable-reducing",
   "metadata": {},
   "source": [
    "### Loading the dataset and initial EDA"
   ]
  },
  {
   "cell_type": "code",
   "execution_count": 1,
   "id": "imperial-carnival",
   "metadata": {},
   "outputs": [],
   "source": [
    "# Importing libraries\n",
    "%matplotlib inline\n",
    "\n",
    "import matplotlib.pylab as plt\n",
    "import numpy as np\n",
    "import pandas as pd\n",
    "import seaborn as sns\n",
    "import regex as re\n",
    "from sklearn.metrics import confusion_matrix\n",
    "from sklearn.metrics import plot_confusion_matrix\n",
    "from sklearn.metrics import classification_report\n",
    "from sklearn.model_selection import train_test_split\n",
    "from sklearn.feature_extraction.text import TfidfVectorizer\n",
    "from sklearn.feature_extraction.text import CountVectorizer\n",
    "from sklearn.svm import LinearSVC\n",
    "from sklearn.model_selection import train_test_split, cross_val_score"
   ]
  },
  {
   "cell_type": "code",
   "execution_count": 2,
   "id": "toxic-month",
   "metadata": {},
   "outputs": [],
   "source": [
    "# Saving the CSV dataset to a pandas DF\n",
    "df = pd.read_csv('data/utterance-channel-dataset.csv')"
   ]
  },
  {
   "cell_type": "code",
   "execution_count": 3,
   "id": "alert-tribune",
   "metadata": {},
   "outputs": [
    {
     "data": {
      "text/plain": [
       "(300, 3)"
      ]
     },
     "execution_count": 3,
     "metadata": {},
     "output_type": "execute_result"
    }
   ],
   "source": [
    "df.shape"
   ]
  },
  {
   "cell_type": "code",
   "execution_count": 4,
   "id": "increasing-defendant",
   "metadata": {},
   "outputs": [
    {
     "data": {
      "text/html": [
       "<div>\n",
       "<style scoped>\n",
       "    .dataframe tbody tr th:only-of-type {\n",
       "        vertical-align: middle;\n",
       "    }\n",
       "\n",
       "    .dataframe tbody tr th {\n",
       "        vertical-align: top;\n",
       "    }\n",
       "\n",
       "    .dataframe thead th {\n",
       "        text-align: right;\n",
       "    }\n",
       "</style>\n",
       "<table border=\"1\" class=\"dataframe\">\n",
       "  <thead>\n",
       "    <tr style=\"text-align: right;\">\n",
       "      <th></th>\n",
       "      <th>Utterance</th>\n",
       "      <th>Channel</th>\n",
       "      <th>ID</th>\n",
       "    </tr>\n",
       "  </thead>\n",
       "  <tbody>\n",
       "    <tr>\n",
       "      <th>0</th>\n",
       "      <td>Separate Category for the Weekly Topic To bett...</td>\n",
       "      <td>community-requests</td>\n",
       "      <td>1</td>\n",
       "    </tr>\n",
       "    <tr>\n",
       "      <th>1</th>\n",
       "      <td>hey, i would like to ask if it's possible to g...</td>\n",
       "      <td>community-requests</td>\n",
       "      <td>2</td>\n",
       "    </tr>\n",
       "    <tr>\n",
       "      <th>2</th>\n",
       "      <td>Any update on my ModMail about the hackathon?</td>\n",
       "      <td>community-requests</td>\n",
       "      <td>3</td>\n",
       "    </tr>\n",
       "    <tr>\n",
       "      <th>3</th>\n",
       "      <td>@Admins I have a suggestion. Python has some m...</td>\n",
       "      <td>community-requests</td>\n",
       "      <td>4</td>\n",
       "    </tr>\n",
       "    <tr>\n",
       "      <th>4</th>\n",
       "      <td>Can we have a beginner channel</td>\n",
       "      <td>community-requests</td>\n",
       "      <td>5</td>\n",
       "    </tr>\n",
       "    <tr>\n",
       "      <th>5</th>\n",
       "      <td>Channel Rename We've changed #async-and-concur...</td>\n",
       "      <td>community-requests</td>\n",
       "      <td>6</td>\n",
       "    </tr>\n",
       "    <tr>\n",
       "      <th>6</th>\n",
       "      <td>FAQ Update We've updated the Frequently Asked ...</td>\n",
       "      <td>community-requests</td>\n",
       "      <td>7</td>\n",
       "    </tr>\n",
       "    <tr>\n",
       "      <th>7</th>\n",
       "      <td>February data review We've published our Febru...</td>\n",
       "      <td>community-requests</td>\n",
       "      <td>8</td>\n",
       "    </tr>\n",
       "    <tr>\n",
       "      <th>8</th>\n",
       "      <td>Food names We've changed the names of our help...</td>\n",
       "      <td>community-requests</td>\n",
       "      <td>9</td>\n",
       "    </tr>\n",
       "    <tr>\n",
       "      <th>9</th>\n",
       "      <td>Hey, I see you asked in #python-general. Pytho...</td>\n",
       "      <td>community-requests</td>\n",
       "      <td>10</td>\n",
       "    </tr>\n",
       "  </tbody>\n",
       "</table>\n",
       "</div>"
      ],
      "text/plain": [
       "                                           Utterance             Channel  ID\n",
       "0  Separate Category for the Weekly Topic To bett...  community-requests   1\n",
       "1  hey, i would like to ask if it's possible to g...  community-requests   2\n",
       "2      Any update on my ModMail about the hackathon?  community-requests   3\n",
       "3  @Admins I have a suggestion. Python has some m...  community-requests   4\n",
       "4                     Can we have a beginner channel  community-requests   5\n",
       "5  Channel Rename We've changed #async-and-concur...  community-requests   6\n",
       "6  FAQ Update We've updated the Frequently Asked ...  community-requests   7\n",
       "7  February data review We've published our Febru...  community-requests   8\n",
       "8  Food names We've changed the names of our help...  community-requests   9\n",
       "9  Hey, I see you asked in #python-general. Pytho...  community-requests  10"
      ]
     },
     "execution_count": 4,
     "metadata": {},
     "output_type": "execute_result"
    }
   ],
   "source": [
    "df.head(10)"
   ]
  },
  {
   "cell_type": "code",
   "execution_count": 5,
   "id": "operating-personal",
   "metadata": {},
   "outputs": [
    {
     "data": {
      "text/plain": [
       "Off-topic                   61\n",
       "general-questions           42\n",
       "community-requests          40\n",
       "member-generated-content    39\n",
       "Introduction                35\n",
       "Resources                   35\n",
       "Resume Review               25\n",
       "General                     23\n",
       "Name: Channel, dtype: int64"
      ]
     },
     "execution_count": 5,
     "metadata": {},
     "output_type": "execute_result"
    }
   ],
   "source": [
    "df['Channel'].value_counts()"
   ]
  },
  {
   "cell_type": "code",
   "execution_count": 6,
   "id": "quick-installation",
   "metadata": {},
   "outputs": [
    {
     "data": {
      "image/png": "[encoded data removed]",
      "text/plain": [
       "<Figure size 1008x576 with 1 Axes>"
      ]
     },
     "metadata": {},
     "output_type": "display_data"
    }
   ],
   "source": [
    "# Visualizing proportion of posts in the DF\n",
    "plt.style.use('fivethirtyeight')\n",
    "plt.figure(figsize=(14,8))\n",
    "\n",
    "df_2 = df.groupby('Channel').count()\n",
    "df_2.reset_index(inplace=True)\n",
    "sns.barplot(x='Utterance', y='Channel', data=df_2);"
   ]
  },
  {
   "cell_type": "markdown",
   "id": "dietary-technical",
   "metadata": {},
   "source": [
    "## Building the SVM Model "
   ]
  },
  {
   "cell_type": "markdown",
   "id": "reserved-roberts",
   "metadata": {},
   "source": [
    "### SVM with TF-IDF'ed features"
   ]
  },
  {
   "cell_type": "code",
   "execution_count": 7,
   "id": "grave-rough",
   "metadata": {},
   "outputs": [
    {
     "data": {
      "text/html": [
       "<div>\n",
       "<style scoped>\n",
       "    .dataframe tbody tr th:only-of-type {\n",
       "        vertical-align: middle;\n",
       "    }\n",
       "\n",
       "    .dataframe tbody tr th {\n",
       "        vertical-align: top;\n",
       "    }\n",
       "\n",
       "    .dataframe thead th {\n",
       "        text-align: right;\n",
       "    }\n",
       "</style>\n",
       "<table border=\"1\" class=\"dataframe\">\n",
       "  <thead>\n",
       "    <tr style=\"text-align: right;\">\n",
       "      <th></th>\n",
       "      <th>Utterance</th>\n",
       "      <th>Channel</th>\n",
       "      <th>ID</th>\n",
       "    </tr>\n",
       "  </thead>\n",
       "  <tbody>\n",
       "    <tr>\n",
       "      <th>0</th>\n",
       "      <td>Separate Category for the Weekly Topic To bett...</td>\n",
       "      <td>community-requests</td>\n",
       "      <td>1</td>\n",
       "    </tr>\n",
       "    <tr>\n",
       "      <th>1</th>\n",
       "      <td>hey, i would like to ask if it's possible to g...</td>\n",
       "      <td>community-requests</td>\n",
       "      <td>2</td>\n",
       "    </tr>\n",
       "    <tr>\n",
       "      <th>2</th>\n",
       "      <td>Any update on my ModMail about the hackathon?</td>\n",
       "      <td>community-requests</td>\n",
       "      <td>3</td>\n",
       "    </tr>\n",
       "  </tbody>\n",
       "</table>\n",
       "</div>"
      ],
      "text/plain": [
       "                                           Utterance             Channel  ID\n",
       "0  Separate Category for the Weekly Topic To bett...  community-requests   1\n",
       "1  hey, i would like to ask if it's possible to g...  community-requests   2\n",
       "2      Any update on my ModMail about the hackathon?  community-requests   3"
      ]
     },
     "execution_count": 7,
     "metadata": {},
     "output_type": "execute_result"
    }
   ],
   "source": [
    "df.head(3)"
   ]
  },
  {
   "cell_type": "markdown",
   "id": "preliminary-player",
   "metadata": {},
   "source": [
    "Baseline model performance using data that is not preprocessed and default parameters of svm.LinearSVC"
   ]
  },
  {
   "cell_type": "code",
   "execution_count": 8,
   "id": "killing-norfolk",
   "metadata": {},
   "outputs": [
    {
     "name": "stdout",
     "output_type": "stream",
     "text": [
      "(90, 1435)\n",
      "Accuracy: 56.67 percent\n"
     ]
    }
   ],
   "source": [
    "### must meet the threshold of 5% false positives on detecting posts in the wrong channel and 90% accuracy in suggesting the correct channel\n",
    "\n",
    "# Splitting the values into testing and training data \n",
    "X_train, X_test, y_train, y_test= train_test_split(df[\"Utterance\"],\n",
    "                                                    df[\"Channel\"],\n",
    "                                                    test_size = 0.30, \n",
    "                                                    stratify = df[\"Channel\"],random_state=17) #preserve the distribution and enable reproducibility\n",
    "\n",
    "## Using tfidf Vectorizer and sklearn.svm.LinearSVC\n",
    "vectorizer = TfidfVectorizer(stop_words='english')\n",
    "tfidf_train_x = vectorizer.fit_transform(X_train)\n",
    "classifier = LinearSVC()\n",
    "classifier.fit(tfidf_train_x.toarray(), y_train)\n",
    "tfidf_test_x = vectorizer.transform(X_test) #applying tf-idf to the test data\n",
    "print(tfidf_test_x.shape)\n",
    "scores = cross_val_score(classifier, tfidf_test_x.toarray(), y_test, cv=5) #cross-validation\n",
    "acc = scores.mean()\n",
    "print(\"Accuracy: %0.2f percent\" % (acc *100))\n"
   ]
  },
  {
   "cell_type": "code",
   "execution_count": 9,
   "id": "imposed-walter",
   "metadata": {},
   "outputs": [],
   "source": [
    "predictions = classifier.predict(tfidf_test_x.toarray())"
   ]
  },
  {
   "cell_type": "code",
   "execution_count": 10,
   "id": "pressed-portland",
   "metadata": {},
   "outputs": [
    {
     "data": {
      "text/html": [
       "<div>\n",
       "<style scoped>\n",
       "    .dataframe tbody tr th:only-of-type {\n",
       "        vertical-align: middle;\n",
       "    }\n",
       "\n",
       "    .dataframe tbody tr th {\n",
       "        vertical-align: top;\n",
       "    }\n",
       "\n",
       "    .dataframe thead th {\n",
       "        text-align: right;\n",
       "    }\n",
       "</style>\n",
       "<table border=\"1\" class=\"dataframe\">\n",
       "  <thead>\n",
       "    <tr style=\"text-align: right;\">\n",
       "      <th></th>\n",
       "      <th>General</th>\n",
       "      <th>Introduction</th>\n",
       "      <th>Off-topic</th>\n",
       "      <th>Resources</th>\n",
       "      <th>Resume Review</th>\n",
       "      <th>community-requests</th>\n",
       "      <th>general-questions</th>\n",
       "      <th>member-generated-content</th>\n",
       "      <th>accuracy</th>\n",
       "      <th>macro avg</th>\n",
       "      <th>weighted avg</th>\n",
       "    </tr>\n",
       "  </thead>\n",
       "  <tbody>\n",
       "    <tr>\n",
       "      <th>precision</th>\n",
       "      <td>0.714286</td>\n",
       "      <td>0.7</td>\n",
       "      <td>0.680000</td>\n",
       "      <td>0.545455</td>\n",
       "      <td>1.000000</td>\n",
       "      <td>0.800000</td>\n",
       "      <td>0.666667</td>\n",
       "      <td>1.0</td>\n",
       "      <td>0.733333</td>\n",
       "      <td>0.763301</td>\n",
       "      <td>0.750074</td>\n",
       "    </tr>\n",
       "    <tr>\n",
       "      <th>recall</th>\n",
       "      <td>0.714286</td>\n",
       "      <td>0.7</td>\n",
       "      <td>0.944444</td>\n",
       "      <td>0.545455</td>\n",
       "      <td>0.428571</td>\n",
       "      <td>0.666667</td>\n",
       "      <td>0.615385</td>\n",
       "      <td>1.0</td>\n",
       "      <td>0.733333</td>\n",
       "      <td>0.701851</td>\n",
       "      <td>0.733333</td>\n",
       "    </tr>\n",
       "    <tr>\n",
       "      <th>f1-score</th>\n",
       "      <td>0.714286</td>\n",
       "      <td>0.7</td>\n",
       "      <td>0.790698</td>\n",
       "      <td>0.545455</td>\n",
       "      <td>0.600000</td>\n",
       "      <td>0.727273</td>\n",
       "      <td>0.640000</td>\n",
       "      <td>1.0</td>\n",
       "      <td>0.733333</td>\n",
       "      <td>0.714714</td>\n",
       "      <td>0.727554</td>\n",
       "    </tr>\n",
       "    <tr>\n",
       "      <th>support</th>\n",
       "      <td>7.000000</td>\n",
       "      <td>10.0</td>\n",
       "      <td>18.000000</td>\n",
       "      <td>11.000000</td>\n",
       "      <td>7.000000</td>\n",
       "      <td>12.000000</td>\n",
       "      <td>13.000000</td>\n",
       "      <td>12.0</td>\n",
       "      <td>0.733333</td>\n",
       "      <td>90.000000</td>\n",
       "      <td>90.000000</td>\n",
       "    </tr>\n",
       "  </tbody>\n",
       "</table>\n",
       "</div>"
      ],
      "text/plain": [
       "            General  Introduction  Off-topic  Resources  Resume Review  \\\n",
       "precision  0.714286           0.7   0.680000   0.545455       1.000000   \n",
       "recall     0.714286           0.7   0.944444   0.545455       0.428571   \n",
       "f1-score   0.714286           0.7   0.790698   0.545455       0.600000   \n",
       "support    7.000000          10.0  18.000000  11.000000       7.000000   \n",
       "\n",
       "           community-requests  general-questions  member-generated-content  \\\n",
       "precision            0.800000           0.666667                       1.0   \n",
       "recall               0.666667           0.615385                       1.0   \n",
       "f1-score             0.727273           0.640000                       1.0   \n",
       "support             12.000000          13.000000                      12.0   \n",
       "\n",
       "           accuracy  macro avg  weighted avg  \n",
       "precision  0.733333   0.763301      0.750074  \n",
       "recall     0.733333   0.701851      0.733333  \n",
       "f1-score   0.733333   0.714714      0.727554  \n",
       "support    0.733333  90.000000     90.000000  "
      ]
     },
     "execution_count": 10,
     "metadata": {},
     "output_type": "execute_result"
    }
   ],
   "source": [
    "# Generate classification report\n",
    "pd.DataFrame(classification_report(y_test,predictions,output_dict=True))"
   ]
  },
  {
   "cell_type": "code",
   "execution_count": 11,
   "id": "peripheral-board",
   "metadata": {},
   "outputs": [
    {
     "data": {
      "text/plain": [
       "<AxesSubplot:xlabel='Predicted', ylabel='Actual'>"
      ]
     },
     "execution_count": 11,
     "metadata": {},
     "output_type": "execute_result"
    },
    {
     "data": {
      "image/png": "[encoded data removed]",
      "text/plain": [
       "<Figure size 720x504 with 2 Axes>"
      ]
     },
     "metadata": {},
     "output_type": "display_data"
    }
   ],
   "source": [
    "# Plotting the confusion matrix\n",
    "data = confusion_matrix(y_test, predictions)\n",
    "df_cm = pd.DataFrame(data, columns=np.unique(y_test), index = np.unique(y_test))\n",
    "df_cm.index.name = 'Actual'\n",
    "df_cm.columns.name = 'Predicted'\n",
    "plt.figure(figsize = (10,7))\n",
    "sns.set(font_scale=1.4)#for label size\n",
    "sns.heatmap(df_cm, cmap=\"Blues\", annot=True,annot_kws={\"size\": 16})# font size"
   ]
  },
  {
   "cell_type": "code",
   "execution_count": 12,
   "id": "killing-north",
   "metadata": {},
   "outputs": [
    {
     "name": "stdout",
     "output_type": "stream",
     "text": [
      "Accuracy: 58.89 percent\n"
     ]
    }
   ],
   "source": [
    "# Using OnevsRest Classifier LinearSVC\n",
    "from sklearn.multiclass import OneVsRestClassifier\n",
    "from sklearn.svm import SVC\n",
    "\n",
    "clf = OneVsRestClassifier(SVC()).fit(tfidf_train_x.toarray(), y_train)\n",
    "\n",
    "\n",
    "scores = cross_val_score(clf, tfidf_test_x.toarray(), y_test, cv=5) #cross-validation\n",
    "acc = scores.mean()\n",
    "print(\"Accuracy: %0.2f percent\" % (acc *100))"
   ]
  },
  {
   "cell_type": "code",
   "execution_count": 13,
   "id": "restricted-filing",
   "metadata": {},
   "outputs": [
    {
     "data": {
      "text/html": [
       "<div>\n",
       "<style scoped>\n",
       "    .dataframe tbody tr th:only-of-type {\n",
       "        vertical-align: middle;\n",
       "    }\n",
       "\n",
       "    .dataframe tbody tr th {\n",
       "        vertical-align: top;\n",
       "    }\n",
       "\n",
       "    .dataframe thead th {\n",
       "        text-align: right;\n",
       "    }\n",
       "</style>\n",
       "<table border=\"1\" class=\"dataframe\">\n",
       "  <thead>\n",
       "    <tr style=\"text-align: right;\">\n",
       "      <th></th>\n",
       "      <th>General</th>\n",
       "      <th>Introduction</th>\n",
       "      <th>Off-topic</th>\n",
       "      <th>Resources</th>\n",
       "      <th>Resume Review</th>\n",
       "      <th>community-requests</th>\n",
       "      <th>general-questions</th>\n",
       "      <th>member-generated-content</th>\n",
       "      <th>accuracy</th>\n",
       "      <th>macro avg</th>\n",
       "      <th>weighted avg</th>\n",
       "    </tr>\n",
       "  </thead>\n",
       "  <tbody>\n",
       "    <tr>\n",
       "      <th>precision</th>\n",
       "      <td>0.714286</td>\n",
       "      <td>0.7</td>\n",
       "      <td>0.5625</td>\n",
       "      <td>0.636364</td>\n",
       "      <td>1.000000</td>\n",
       "      <td>0.857143</td>\n",
       "      <td>0.777778</td>\n",
       "      <td>1.000000</td>\n",
       "      <td>0.711111</td>\n",
       "      <td>0.781009</td>\n",
       "      <td>0.761354</td>\n",
       "    </tr>\n",
       "    <tr>\n",
       "      <th>recall</th>\n",
       "      <td>0.714286</td>\n",
       "      <td>0.7</td>\n",
       "      <td>1.0000</td>\n",
       "      <td>0.636364</td>\n",
       "      <td>0.428571</td>\n",
       "      <td>0.500000</td>\n",
       "      <td>0.538462</td>\n",
       "      <td>0.916667</td>\n",
       "      <td>0.711111</td>\n",
       "      <td>0.679294</td>\n",
       "      <td>0.711111</td>\n",
       "    </tr>\n",
       "    <tr>\n",
       "      <th>f1-score</th>\n",
       "      <td>0.714286</td>\n",
       "      <td>0.7</td>\n",
       "      <td>0.7200</td>\n",
       "      <td>0.636364</td>\n",
       "      <td>0.600000</td>\n",
       "      <td>0.631579</td>\n",
       "      <td>0.636364</td>\n",
       "      <td>0.956522</td>\n",
       "      <td>0.711111</td>\n",
       "      <td>0.699389</td>\n",
       "      <td>0.705444</td>\n",
       "    </tr>\n",
       "    <tr>\n",
       "      <th>support</th>\n",
       "      <td>7.000000</td>\n",
       "      <td>10.0</td>\n",
       "      <td>18.0000</td>\n",
       "      <td>11.000000</td>\n",
       "      <td>7.000000</td>\n",
       "      <td>12.000000</td>\n",
       "      <td>13.000000</td>\n",
       "      <td>12.000000</td>\n",
       "      <td>0.711111</td>\n",
       "      <td>90.000000</td>\n",
       "      <td>90.000000</td>\n",
       "    </tr>\n",
       "  </tbody>\n",
       "</table>\n",
       "</div>"
      ],
      "text/plain": [
       "            General  Introduction  Off-topic  Resources  Resume Review  \\\n",
       "precision  0.714286           0.7     0.5625   0.636364       1.000000   \n",
       "recall     0.714286           0.7     1.0000   0.636364       0.428571   \n",
       "f1-score   0.714286           0.7     0.7200   0.636364       0.600000   \n",
       "support    7.000000          10.0    18.0000  11.000000       7.000000   \n",
       "\n",
       "           community-requests  general-questions  member-generated-content  \\\n",
       "precision            0.857143           0.777778                  1.000000   \n",
       "recall               0.500000           0.538462                  0.916667   \n",
       "f1-score             0.631579           0.636364                  0.956522   \n",
       "support             12.000000          13.000000                 12.000000   \n",
       "\n",
       "           accuracy  macro avg  weighted avg  \n",
       "precision  0.711111   0.781009      0.761354  \n",
       "recall     0.711111   0.679294      0.711111  \n",
       "f1-score   0.711111   0.699389      0.705444  \n",
       "support    0.711111  90.000000     90.000000  "
      ]
     },
     "execution_count": 13,
     "metadata": {},
     "output_type": "execute_result"
    }
   ],
   "source": [
    "predictions = clf.predict(tfidf_test_x.toarray())\n",
    "pd.DataFrame(classification_report(y_test,predictions,output_dict=True))"
   ]
  },
  {
   "cell_type": "markdown",
   "id": "local-listening",
   "metadata": {},
   "source": [
    "### Lemmatized Words + TF IDF Vectorizer"
   ]
  },
  {
   "cell_type": "code",
   "execution_count": 14,
   "id": "prescription-latvia",
   "metadata": {},
   "outputs": [
    {
     "name": "stderr",
     "output_type": "stream",
     "text": [
      "[nltk_data] Downloading package punkt to\n",
      "[nltk_data]     C:\\Users\\Patrick\\AppData\\Roaming\\nltk_data...\n",
      "[nltk_data]   Package punkt is already up-to-date!\n"
     ]
    }
   ],
   "source": [
    "from sklearn.feature_extraction.text import TfidfVectorizer\n",
    "from sklearn.metrics.pairwise import linear_kernel\n",
    "from nltk import word_tokenize          \n",
    "from nltk.stem import WordNetLemmatizer\n",
    "import nltk\n",
    "from nltk.corpus import stopwords\n",
    "\n",
    "# Download stopwords list\n",
    "nltk.download('punkt')\n",
    "stop_words = set(stopwords.words('english')) \n",
    "\n",
    "# Interface lemma tokenizer from nltk with sklearn\n",
    "class LemmaTokenizer:\n",
    "    ignore_tokens = [',', '.', ';', ':', '\"', '``', \"''\", '`']\n",
    "    def __init__(self):\n",
    "        self.wnl = WordNetLemmatizer()\n",
    "    def __call__(self, doc):\n",
    "        return [self.wnl.lemmatize(t) for t in word_tokenize(doc) if t not in self.ignore_tokens]\n",
    "\n",
    "# Lemmatize the stop words\n",
    "tokenizer=LemmaTokenizer()\n",
    "token_stop = tokenizer(' '.join(stop_words))\n",
    "\n",
    "# Splitting the values into testing and training data \n",
    "X_train, X_test, y_train, y_test= train_test_split(df[\"Utterance\"],\n",
    "                                                    df[\"Channel\"],\n",
    "                                                    test_size = 0.30, \n",
    "                                                    stratify = df[\"Channel\"],random_state=17) #preserve the distribution and enable reproducibility\n",
    "# Create TF-idf model\n",
    "vectorizer = TfidfVectorizer(stop_words=token_stop, \n",
    "                              tokenizer=tokenizer)\n",
    "\n",
    "tfidf_train_x = vectorizer.fit_transform(X_train)\n"
   ]
  },
  {
   "cell_type": "code",
   "execution_count": 15,
   "id": "certified-calibration",
   "metadata": {},
   "outputs": [
    {
     "name": "stdout",
     "output_type": "stream",
     "text": [
      "Accuracy: 57.78 percent\n"
     ]
    }
   ],
   "source": [
    "classifier = LinearSVC()\n",
    "classifier.fit(tfidf_train_x.toarray(), y_train)\n",
    "tfidf_test_x = vectorizer.transform(X_test) #applying tf-idf to the test data\n",
    "scores = cross_val_score(classifier, tfidf_test_x.toarray(), y_test, cv=5) #cross-validation\n",
    "acc = scores.mean()\n",
    "print(\"Accuracy: %0.2f percent\" % (acc *100))"
   ]
  },
  {
   "cell_type": "code",
   "execution_count": 16,
   "id": "advance-singapore",
   "metadata": {},
   "outputs": [
    {
     "data": {
      "text/html": [
       "<div>\n",
       "<style scoped>\n",
       "    .dataframe tbody tr th:only-of-type {\n",
       "        vertical-align: middle;\n",
       "    }\n",
       "\n",
       "    .dataframe tbody tr th {\n",
       "        vertical-align: top;\n",
       "    }\n",
       "\n",
       "    .dataframe thead th {\n",
       "        text-align: right;\n",
       "    }\n",
       "</style>\n",
       "<table border=\"1\" class=\"dataframe\">\n",
       "  <thead>\n",
       "    <tr style=\"text-align: right;\">\n",
       "      <th></th>\n",
       "      <th>General</th>\n",
       "      <th>Introduction</th>\n",
       "      <th>Off-topic</th>\n",
       "      <th>Resources</th>\n",
       "      <th>Resume Review</th>\n",
       "      <th>community-requests</th>\n",
       "      <th>general-questions</th>\n",
       "      <th>member-generated-content</th>\n",
       "      <th>accuracy</th>\n",
       "      <th>macro avg</th>\n",
       "      <th>weighted avg</th>\n",
       "    </tr>\n",
       "  </thead>\n",
       "  <tbody>\n",
       "    <tr>\n",
       "      <th>precision</th>\n",
       "      <td>0.750000</td>\n",
       "      <td>0.666667</td>\n",
       "      <td>0.652174</td>\n",
       "      <td>0.615385</td>\n",
       "      <td>1.000000</td>\n",
       "      <td>0.75</td>\n",
       "      <td>0.700000</td>\n",
       "      <td>1.000000</td>\n",
       "      <td>0.722222</td>\n",
       "      <td>0.766778</td>\n",
       "      <td>0.750278</td>\n",
       "    </tr>\n",
       "    <tr>\n",
       "      <th>recall</th>\n",
       "      <td>0.857143</td>\n",
       "      <td>0.800000</td>\n",
       "      <td>0.833333</td>\n",
       "      <td>0.727273</td>\n",
       "      <td>0.142857</td>\n",
       "      <td>0.75</td>\n",
       "      <td>0.538462</td>\n",
       "      <td>0.916667</td>\n",
       "      <td>0.722222</td>\n",
       "      <td>0.695717</td>\n",
       "      <td>0.722222</td>\n",
       "    </tr>\n",
       "    <tr>\n",
       "      <th>f1-score</th>\n",
       "      <td>0.800000</td>\n",
       "      <td>0.727273</td>\n",
       "      <td>0.731707</td>\n",
       "      <td>0.666667</td>\n",
       "      <td>0.250000</td>\n",
       "      <td>0.75</td>\n",
       "      <td>0.608696</td>\n",
       "      <td>0.956522</td>\n",
       "      <td>0.722222</td>\n",
       "      <td>0.686358</td>\n",
       "      <td>0.705757</td>\n",
       "    </tr>\n",
       "    <tr>\n",
       "      <th>support</th>\n",
       "      <td>7.000000</td>\n",
       "      <td>10.000000</td>\n",
       "      <td>18.000000</td>\n",
       "      <td>11.000000</td>\n",
       "      <td>7.000000</td>\n",
       "      <td>12.00</td>\n",
       "      <td>13.000000</td>\n",
       "      <td>12.000000</td>\n",
       "      <td>0.722222</td>\n",
       "      <td>90.000000</td>\n",
       "      <td>90.000000</td>\n",
       "    </tr>\n",
       "  </tbody>\n",
       "</table>\n",
       "</div>"
      ],
      "text/plain": [
       "            General  Introduction  Off-topic  Resources  Resume Review  \\\n",
       "precision  0.750000      0.666667   0.652174   0.615385       1.000000   \n",
       "recall     0.857143      0.800000   0.833333   0.727273       0.142857   \n",
       "f1-score   0.800000      0.727273   0.731707   0.666667       0.250000   \n",
       "support    7.000000     10.000000  18.000000  11.000000       7.000000   \n",
       "\n",
       "           community-requests  general-questions  member-generated-content  \\\n",
       "precision                0.75           0.700000                  1.000000   \n",
       "recall                   0.75           0.538462                  0.916667   \n",
       "f1-score                 0.75           0.608696                  0.956522   \n",
       "support                 12.00          13.000000                 12.000000   \n",
       "\n",
       "           accuracy  macro avg  weighted avg  \n",
       "precision  0.722222   0.766778      0.750278  \n",
       "recall     0.722222   0.695717      0.722222  \n",
       "f1-score   0.722222   0.686358      0.705757  \n",
       "support    0.722222  90.000000     90.000000  "
      ]
     },
     "execution_count": 16,
     "metadata": {},
     "output_type": "execute_result"
    }
   ],
   "source": [
    "predictions = classifier.predict(tfidf_test_x.toarray())\n",
    "pd.DataFrame(classification_report(y_test,predictions,output_dict=True))"
   ]
  },
  {
   "cell_type": "code",
   "execution_count": 17,
   "id": "viral-samoa",
   "metadata": {},
   "outputs": [
    {
     "name": "stdout",
     "output_type": "stream",
     "text": [
      "Accuracy: 58.89 percent\n"
     ]
    }
   ],
   "source": [
    "clf = OneVsRestClassifier(SVC()).fit(tfidf_train_x.toarray(), y_train)\n",
    "\n",
    "scores = cross_val_score(clf, tfidf_test_x.toarray(), y_test, cv=5) #cross-validation\n",
    "acc = scores.mean()\n",
    "print(\"Accuracy: %0.2f percent\" % (acc *100))"
   ]
  },
  {
   "cell_type": "code",
   "execution_count": 18,
   "id": "renewable-secondary",
   "metadata": {},
   "outputs": [
    {
     "data": {
      "text/html": [
       "<div>\n",
       "<style scoped>\n",
       "    .dataframe tbody tr th:only-of-type {\n",
       "        vertical-align: middle;\n",
       "    }\n",
       "\n",
       "    .dataframe tbody tr th {\n",
       "        vertical-align: top;\n",
       "    }\n",
       "\n",
       "    .dataframe thead th {\n",
       "        text-align: right;\n",
       "    }\n",
       "</style>\n",
       "<table border=\"1\" class=\"dataframe\">\n",
       "  <thead>\n",
       "    <tr style=\"text-align: right;\">\n",
       "      <th></th>\n",
       "      <th>General</th>\n",
       "      <th>Introduction</th>\n",
       "      <th>Off-topic</th>\n",
       "      <th>Resources</th>\n",
       "      <th>Resume Review</th>\n",
       "      <th>community-requests</th>\n",
       "      <th>general-questions</th>\n",
       "      <th>member-generated-content</th>\n",
       "      <th>accuracy</th>\n",
       "      <th>macro avg</th>\n",
       "      <th>weighted avg</th>\n",
       "    </tr>\n",
       "  </thead>\n",
       "  <tbody>\n",
       "    <tr>\n",
       "      <th>precision</th>\n",
       "      <td>0.750000</td>\n",
       "      <td>0.666667</td>\n",
       "      <td>0.551724</td>\n",
       "      <td>0.727273</td>\n",
       "      <td>1.000000</td>\n",
       "      <td>0.727273</td>\n",
       "      <td>0.714286</td>\n",
       "      <td>1.000000</td>\n",
       "      <td>0.7</td>\n",
       "      <td>0.767153</td>\n",
       "      <td>0.742897</td>\n",
       "    </tr>\n",
       "    <tr>\n",
       "      <th>recall</th>\n",
       "      <td>0.857143</td>\n",
       "      <td>0.800000</td>\n",
       "      <td>0.888889</td>\n",
       "      <td>0.727273</td>\n",
       "      <td>0.142857</td>\n",
       "      <td>0.666667</td>\n",
       "      <td>0.384615</td>\n",
       "      <td>0.916667</td>\n",
       "      <td>0.7</td>\n",
       "      <td>0.673014</td>\n",
       "      <td>0.700000</td>\n",
       "    </tr>\n",
       "    <tr>\n",
       "      <th>f1-score</th>\n",
       "      <td>0.800000</td>\n",
       "      <td>0.727273</td>\n",
       "      <td>0.680851</td>\n",
       "      <td>0.727273</td>\n",
       "      <td>0.250000</td>\n",
       "      <td>0.695652</td>\n",
       "      <td>0.500000</td>\n",
       "      <td>0.956522</td>\n",
       "      <td>0.7</td>\n",
       "      <td>0.667196</td>\n",
       "      <td>0.680046</td>\n",
       "    </tr>\n",
       "    <tr>\n",
       "      <th>support</th>\n",
       "      <td>7.000000</td>\n",
       "      <td>10.000000</td>\n",
       "      <td>18.000000</td>\n",
       "      <td>11.000000</td>\n",
       "      <td>7.000000</td>\n",
       "      <td>12.000000</td>\n",
       "      <td>13.000000</td>\n",
       "      <td>12.000000</td>\n",
       "      <td>0.7</td>\n",
       "      <td>90.000000</td>\n",
       "      <td>90.000000</td>\n",
       "    </tr>\n",
       "  </tbody>\n",
       "</table>\n",
       "</div>"
      ],
      "text/plain": [
       "            General  Introduction  Off-topic  Resources  Resume Review  \\\n",
       "precision  0.750000      0.666667   0.551724   0.727273       1.000000   \n",
       "recall     0.857143      0.800000   0.888889   0.727273       0.142857   \n",
       "f1-score   0.800000      0.727273   0.680851   0.727273       0.250000   \n",
       "support    7.000000     10.000000  18.000000  11.000000       7.000000   \n",
       "\n",
       "           community-requests  general-questions  member-generated-content  \\\n",
       "precision            0.727273           0.714286                  1.000000   \n",
       "recall               0.666667           0.384615                  0.916667   \n",
       "f1-score             0.695652           0.500000                  0.956522   \n",
       "support             12.000000          13.000000                 12.000000   \n",
       "\n",
       "           accuracy  macro avg  weighted avg  \n",
       "precision       0.7   0.767153      0.742897  \n",
       "recall          0.7   0.673014      0.700000  \n",
       "f1-score        0.7   0.667196      0.680046  \n",
       "support         0.7  90.000000     90.000000  "
      ]
     },
     "execution_count": 18,
     "metadata": {},
     "output_type": "execute_result"
    }
   ],
   "source": [
    "predictions = clf.predict(tfidf_test_x.toarray())\n",
    "pd.DataFrame(classification_report(y_test,predictions,output_dict=True))"
   ]
  },
  {
   "cell_type": "markdown",
   "id": "stopped-oregon",
   "metadata": {},
   "source": [
    "### Bag of Words SVC"
   ]
  },
  {
   "cell_type": "code",
   "execution_count": 19,
   "id": "accessory-mumbai",
   "metadata": {},
   "outputs": [],
   "source": [
    "df['Utterance'] = df['Utterance'].str.lower()"
   ]
  },
  {
   "cell_type": "code",
   "execution_count": 20,
   "id": "graphic-argument",
   "metadata": {},
   "outputs": [
    {
     "data": {
      "text/html": [
       "<div>\n",
       "<style scoped>\n",
       "    .dataframe tbody tr th:only-of-type {\n",
       "        vertical-align: middle;\n",
       "    }\n",
       "\n",
       "    .dataframe tbody tr th {\n",
       "        vertical-align: top;\n",
       "    }\n",
       "\n",
       "    .dataframe thead th {\n",
       "        text-align: right;\n",
       "    }\n",
       "</style>\n",
       "<table border=\"1\" class=\"dataframe\">\n",
       "  <thead>\n",
       "    <tr style=\"text-align: right;\">\n",
       "      <th></th>\n",
       "      <th>Utterance</th>\n",
       "      <th>Channel</th>\n",
       "      <th>ID</th>\n",
       "    </tr>\n",
       "  </thead>\n",
       "  <tbody>\n",
       "    <tr>\n",
       "      <th>0</th>\n",
       "      <td>separate category for the weekly topic to bett...</td>\n",
       "      <td>community-requests</td>\n",
       "      <td>1</td>\n",
       "    </tr>\n",
       "    <tr>\n",
       "      <th>1</th>\n",
       "      <td>hey, i would like to ask if it's possible to g...</td>\n",
       "      <td>community-requests</td>\n",
       "      <td>2</td>\n",
       "    </tr>\n",
       "    <tr>\n",
       "      <th>2</th>\n",
       "      <td>any update on my modmail about the hackathon?</td>\n",
       "      <td>community-requests</td>\n",
       "      <td>3</td>\n",
       "    </tr>\n",
       "    <tr>\n",
       "      <th>3</th>\n",
       "      <td>@admins i have a suggestion. python has some m...</td>\n",
       "      <td>community-requests</td>\n",
       "      <td>4</td>\n",
       "    </tr>\n",
       "    <tr>\n",
       "      <th>4</th>\n",
       "      <td>can we have a beginner channel</td>\n",
       "      <td>community-requests</td>\n",
       "      <td>5</td>\n",
       "    </tr>\n",
       "  </tbody>\n",
       "</table>\n",
       "</div>"
      ],
      "text/plain": [
       "                                           Utterance             Channel  ID\n",
       "0  separate category for the weekly topic to bett...  community-requests   1\n",
       "1  hey, i would like to ask if it's possible to g...  community-requests   2\n",
       "2      any update on my modmail about the hackathon?  community-requests   3\n",
       "3  @admins i have a suggestion. python has some m...  community-requests   4\n",
       "4                     can we have a beginner channel  community-requests   5"
      ]
     },
     "execution_count": 20,
     "metadata": {},
     "output_type": "execute_result"
    }
   ],
   "source": [
    "df.head()"
   ]
  },
  {
   "cell_type": "code",
   "execution_count": 21,
   "id": "little-router",
   "metadata": {},
   "outputs": [],
   "source": [
    "cleanedData = []\n",
    "\n",
    "lemma = WordNetLemmatizer()\n",
    "swords = stopwords.words(\"english\")\n",
    "for text in df[\"Utterance\"]:\n",
    "    \n",
    "    # Cleaning links\n",
    "    text = re.sub(r'http\\S+', '', text)\n",
    "    \n",
    "    # Cleaning everything except alphabetical and numerical characters\n",
    "    text = re.sub(\"[^a-zA-Z0-9]\",\" \",text)\n",
    "    \n",
    "    # Tokenizing and lemmatizing\n",
    "    text = nltk.word_tokenize(text.lower())\n",
    "    text = [lemma.lemmatize(word) for word in text]\n",
    "    \n",
    "    # Removing stopwords\n",
    "    text = [word for word in text if word not in swords]\n",
    "    \n",
    "    # Joining\n",
    "    text = \" \".join(text)\n",
    "    \n",
    "    cleanedData.append(text)"
   ]
  },
  {
   "cell_type": "code",
   "execution_count": 22,
   "id": "invisible-intervention",
   "metadata": {},
   "outputs": [
    {
     "name": "stdout",
     "output_type": "stream",
     "text": [
      "separate category weekly topic better highlight weekly topic moved weekly topic channel separate channel also allowed u two separate text channel one highlighting topic weekly topic one discussing topic weekly topic discussion edited\n",
      "\n",
      "hey would like ask possible get channel user exchanged project back\n",
      "\n",
      "update modmail hackathon\n",
      "\n",
      "admins suggestion python ha music library also great feature like midi handling would good idea opened music python topic channel\n",
      "\n",
      "beginner channel\n",
      "\n",
      "channel rename changed async concurrency async currently better indicate concurrency topic e thread trio twisted multiprocessing gil belong topical channel async\n",
      "\n",
      "faq update updated frequently asked question page website faq center around common question get server community faq tag link webpage\n",
      "\n",
      "february data review published february data review containing information data store run community find\n",
      "\n",
      "food name changed name help channel chemical element food hope memorable user help system\n",
      "\n",
      "hey see asked python general python general rapidly scrolling discussion channel sometimes question missed\n",
      "\n"
     ]
    }
   ],
   "source": [
    "for i in range(0,10):\n",
    "    print(cleanedData[i],end=\"\\n\\n\")"
   ]
  },
  {
   "cell_type": "code",
   "execution_count": 23,
   "id": "frank-artwork",
   "metadata": {},
   "outputs": [],
   "source": [
    "vectorizer = CountVectorizer(max_features=10000)\n",
    "BOW = vectorizer.fit_transform(cleanedData)"
   ]
  },
  {
   "cell_type": "code",
   "execution_count": 24,
   "id": "reliable-vietnamese",
   "metadata": {},
   "outputs": [],
   "source": [
    "from sklearn.model_selection import train_test_split\n",
    "X_train, X_test,y_train,y_test = train_test_split(BOW,np.asarray(df[\"Channel\"]), test_size = 0.30, stratify = df[\"Channel\"], random_state = 17)"
   ]
  },
  {
   "cell_type": "code",
   "execution_count": 25,
   "id": "sought-dimension",
   "metadata": {},
   "outputs": [
    {
     "data": {
      "text/plain": [
       "LinearSVC()"
      ]
     },
     "execution_count": 25,
     "metadata": {},
     "output_type": "execute_result"
    }
   ],
   "source": [
    "from sklearn.svm import SVC\n",
    "\n",
    "model = LinearSVC()\n",
    "model.fit(X_train,y_train)\n"
   ]
  },
  {
   "cell_type": "code",
   "execution_count": 26,
   "id": "necessary-transparency",
   "metadata": {},
   "outputs": [],
   "source": [
    "predictions = model.predict(X_test)"
   ]
  },
  {
   "cell_type": "code",
   "execution_count": 27,
   "id": "synthetic-christopher",
   "metadata": {},
   "outputs": [
    {
     "name": "stdout",
     "output_type": "stream",
     "text": [
      "Accuracy: 48.89 percent\n"
     ]
    }
   ],
   "source": [
    "scores = cross_val_score(model, X_test, y_test, cv=5) #cross-validation\n",
    "acc = scores.mean()\n",
    "print(\"Accuracy: %0.2f percent\" % (acc *100))"
   ]
  },
  {
   "cell_type": "code",
   "execution_count": 28,
   "id": "homeless-registration",
   "metadata": {},
   "outputs": [
    {
     "data": {
      "text/html": [
       "<div>\n",
       "<style scoped>\n",
       "    .dataframe tbody tr th:only-of-type {\n",
       "        vertical-align: middle;\n",
       "    }\n",
       "\n",
       "    .dataframe tbody tr th {\n",
       "        vertical-align: top;\n",
       "    }\n",
       "\n",
       "    .dataframe thead th {\n",
       "        text-align: right;\n",
       "    }\n",
       "</style>\n",
       "<table border=\"1\" class=\"dataframe\">\n",
       "  <thead>\n",
       "    <tr style=\"text-align: right;\">\n",
       "      <th></th>\n",
       "      <th>General</th>\n",
       "      <th>Introduction</th>\n",
       "      <th>Off-topic</th>\n",
       "      <th>Resources</th>\n",
       "      <th>Resume Review</th>\n",
       "      <th>community-requests</th>\n",
       "      <th>general-questions</th>\n",
       "      <th>member-generated-content</th>\n",
       "      <th>accuracy</th>\n",
       "      <th>macro avg</th>\n",
       "      <th>weighted avg</th>\n",
       "    </tr>\n",
       "  </thead>\n",
       "  <tbody>\n",
       "    <tr>\n",
       "      <th>precision</th>\n",
       "      <td>0.600000</td>\n",
       "      <td>0.7</td>\n",
       "      <td>0.548387</td>\n",
       "      <td>0.545455</td>\n",
       "      <td>1.000000</td>\n",
       "      <td>0.571429</td>\n",
       "      <td>0.461538</td>\n",
       "      <td>0.818182</td>\n",
       "      <td>0.6</td>\n",
       "      <td>0.655624</td>\n",
       "      <td>0.630514</td>\n",
       "    </tr>\n",
       "    <tr>\n",
       "      <th>recall</th>\n",
       "      <td>0.428571</td>\n",
       "      <td>0.7</td>\n",
       "      <td>0.944444</td>\n",
       "      <td>0.545455</td>\n",
       "      <td>0.285714</td>\n",
       "      <td>0.333333</td>\n",
       "      <td>0.461538</td>\n",
       "      <td>0.750000</td>\n",
       "      <td>0.6</td>\n",
       "      <td>0.556132</td>\n",
       "      <td>0.600000</td>\n",
       "    </tr>\n",
       "    <tr>\n",
       "      <th>f1-score</th>\n",
       "      <td>0.500000</td>\n",
       "      <td>0.7</td>\n",
       "      <td>0.693878</td>\n",
       "      <td>0.545455</td>\n",
       "      <td>0.444444</td>\n",
       "      <td>0.421053</td>\n",
       "      <td>0.461538</td>\n",
       "      <td>0.782609</td>\n",
       "      <td>0.6</td>\n",
       "      <td>0.568622</td>\n",
       "      <td>0.583832</td>\n",
       "    </tr>\n",
       "    <tr>\n",
       "      <th>support</th>\n",
       "      <td>7.000000</td>\n",
       "      <td>10.0</td>\n",
       "      <td>18.000000</td>\n",
       "      <td>11.000000</td>\n",
       "      <td>7.000000</td>\n",
       "      <td>12.000000</td>\n",
       "      <td>13.000000</td>\n",
       "      <td>12.000000</td>\n",
       "      <td>0.6</td>\n",
       "      <td>90.000000</td>\n",
       "      <td>90.000000</td>\n",
       "    </tr>\n",
       "  </tbody>\n",
       "</table>\n",
       "</div>"
      ],
      "text/plain": [
       "            General  Introduction  Off-topic  Resources  Resume Review  \\\n",
       "precision  0.600000           0.7   0.548387   0.545455       1.000000   \n",
       "recall     0.428571           0.7   0.944444   0.545455       0.285714   \n",
       "f1-score   0.500000           0.7   0.693878   0.545455       0.444444   \n",
       "support    7.000000          10.0  18.000000  11.000000       7.000000   \n",
       "\n",
       "           community-requests  general-questions  member-generated-content  \\\n",
       "precision            0.571429           0.461538                  0.818182   \n",
       "recall               0.333333           0.461538                  0.750000   \n",
       "f1-score             0.421053           0.461538                  0.782609   \n",
       "support             12.000000          13.000000                 12.000000   \n",
       "\n",
       "           accuracy  macro avg  weighted avg  \n",
       "precision       0.6   0.655624      0.630514  \n",
       "recall          0.6   0.556132      0.600000  \n",
       "f1-score        0.6   0.568622      0.583832  \n",
       "support         0.6  90.000000     90.000000  "
      ]
     },
     "execution_count": 28,
     "metadata": {},
     "output_type": "execute_result"
    }
   ],
   "source": [
    "pd.DataFrame(classification_report(y_test,predictions,output_dict=True))"
   ]
  },
  {
   "cell_type": "code",
   "execution_count": 29,
   "id": "cheap-heart",
   "metadata": {},
   "outputs": [
    {
     "name": "stdout",
     "output_type": "stream",
     "text": [
      "Accuracy: 50.00 percent\n"
     ]
    }
   ],
   "source": [
    "clf = OneVsRestClassifier(SVC()).fit(X_train,y_train)\n",
    "scores = cross_val_score(clf, X_test, y_test, cv=5) #cross-validation\n",
    "acc = scores.mean()\n",
    "print(\"Accuracy: %0.2f percent\" % (acc *100))"
   ]
  },
  {
   "cell_type": "code",
   "execution_count": 30,
   "id": "solved-consumption",
   "metadata": {},
   "outputs": [
    {
     "data": {
      "text/html": [
       "<div>\n",
       "<style scoped>\n",
       "    .dataframe tbody tr th:only-of-type {\n",
       "        vertical-align: middle;\n",
       "    }\n",
       "\n",
       "    .dataframe tbody tr th {\n",
       "        vertical-align: top;\n",
       "    }\n",
       "\n",
       "    .dataframe thead th {\n",
       "        text-align: right;\n",
       "    }\n",
       "</style>\n",
       "<table border=\"1\" class=\"dataframe\">\n",
       "  <thead>\n",
       "    <tr style=\"text-align: right;\">\n",
       "      <th></th>\n",
       "      <th>General</th>\n",
       "      <th>Introduction</th>\n",
       "      <th>Off-topic</th>\n",
       "      <th>Resources</th>\n",
       "      <th>Resume Review</th>\n",
       "      <th>community-requests</th>\n",
       "      <th>general-questions</th>\n",
       "      <th>member-generated-content</th>\n",
       "      <th>accuracy</th>\n",
       "      <th>macro avg</th>\n",
       "      <th>weighted avg</th>\n",
       "    </tr>\n",
       "  </thead>\n",
       "  <tbody>\n",
       "    <tr>\n",
       "      <th>precision</th>\n",
       "      <td>0.500000</td>\n",
       "      <td>0.875000</td>\n",
       "      <td>0.515152</td>\n",
       "      <td>0.700000</td>\n",
       "      <td>1.000000</td>\n",
       "      <td>0.857143</td>\n",
       "      <td>0.428571</td>\n",
       "      <td>1.000000</td>\n",
       "      <td>0.611111</td>\n",
       "      <td>0.734483</td>\n",
       "      <td>0.711999</td>\n",
       "    </tr>\n",
       "    <tr>\n",
       "      <th>recall</th>\n",
       "      <td>0.285714</td>\n",
       "      <td>0.700000</td>\n",
       "      <td>0.944444</td>\n",
       "      <td>0.636364</td>\n",
       "      <td>0.285714</td>\n",
       "      <td>0.500000</td>\n",
       "      <td>0.692308</td>\n",
       "      <td>0.416667</td>\n",
       "      <td>0.611111</td>\n",
       "      <td>0.557651</td>\n",
       "      <td>0.611111</td>\n",
       "    </tr>\n",
       "    <tr>\n",
       "      <th>f1-score</th>\n",
       "      <td>0.363636</td>\n",
       "      <td>0.777778</td>\n",
       "      <td>0.666667</td>\n",
       "      <td>0.666667</td>\n",
       "      <td>0.444444</td>\n",
       "      <td>0.631579</td>\n",
       "      <td>0.529412</td>\n",
       "      <td>0.588235</td>\n",
       "      <td>0.611111</td>\n",
       "      <td>0.583552</td>\n",
       "      <td>0.603198</td>\n",
       "    </tr>\n",
       "    <tr>\n",
       "      <th>support</th>\n",
       "      <td>7.000000</td>\n",
       "      <td>10.000000</td>\n",
       "      <td>18.000000</td>\n",
       "      <td>11.000000</td>\n",
       "      <td>7.000000</td>\n",
       "      <td>12.000000</td>\n",
       "      <td>13.000000</td>\n",
       "      <td>12.000000</td>\n",
       "      <td>0.611111</td>\n",
       "      <td>90.000000</td>\n",
       "      <td>90.000000</td>\n",
       "    </tr>\n",
       "  </tbody>\n",
       "</table>\n",
       "</div>"
      ],
      "text/plain": [
       "            General  Introduction  Off-topic  Resources  Resume Review  \\\n",
       "precision  0.500000      0.875000   0.515152   0.700000       1.000000   \n",
       "recall     0.285714      0.700000   0.944444   0.636364       0.285714   \n",
       "f1-score   0.363636      0.777778   0.666667   0.666667       0.444444   \n",
       "support    7.000000     10.000000  18.000000  11.000000       7.000000   \n",
       "\n",
       "           community-requests  general-questions  member-generated-content  \\\n",
       "precision            0.857143           0.428571                  1.000000   \n",
       "recall               0.500000           0.692308                  0.416667   \n",
       "f1-score             0.631579           0.529412                  0.588235   \n",
       "support             12.000000          13.000000                 12.000000   \n",
       "\n",
       "           accuracy  macro avg  weighted avg  \n",
       "precision  0.611111   0.734483      0.711999  \n",
       "recall     0.611111   0.557651      0.611111  \n",
       "f1-score   0.611111   0.583552      0.603198  \n",
       "support    0.611111  90.000000     90.000000  "
      ]
     },
     "execution_count": 30,
     "metadata": {},
     "output_type": "execute_result"
    }
   ],
   "source": [
    "predictions = clf.predict(X_test)\n",
    "pd.DataFrame(classification_report(y_test,predictions,output_dict=True))"
   ]
  },
  {
   "cell_type": "markdown",
   "id": "mighty-witch",
   "metadata": {},
   "source": [
    "### GridSearch for LinearSVC + TFIDF-ed features"
   ]
  },
  {
   "cell_type": "code",
   "execution_count": 31,
   "id": "constitutional-correction",
   "metadata": {},
   "outputs": [
    {
     "data": {
      "text/html": [
       "<div>\n",
       "<style scoped>\n",
       "    .dataframe tbody tr th:only-of-type {\n",
       "        vertical-align: middle;\n",
       "    }\n",
       "\n",
       "    .dataframe tbody tr th {\n",
       "        vertical-align: top;\n",
       "    }\n",
       "\n",
       "    .dataframe thead th {\n",
       "        text-align: right;\n",
       "    }\n",
       "</style>\n",
       "<table border=\"1\" class=\"dataframe\">\n",
       "  <thead>\n",
       "    <tr style=\"text-align: right;\">\n",
       "      <th></th>\n",
       "      <th>Utterance</th>\n",
       "      <th>Channel</th>\n",
       "      <th>ID</th>\n",
       "    </tr>\n",
       "  </thead>\n",
       "  <tbody>\n",
       "    <tr>\n",
       "      <th>0</th>\n",
       "      <td>separate category for the weekly topic to bett...</td>\n",
       "      <td>community-requests</td>\n",
       "      <td>1</td>\n",
       "    </tr>\n",
       "    <tr>\n",
       "      <th>1</th>\n",
       "      <td>hey, i would like to ask if it's possible to g...</td>\n",
       "      <td>community-requests</td>\n",
       "      <td>2</td>\n",
       "    </tr>\n",
       "    <tr>\n",
       "      <th>2</th>\n",
       "      <td>any update on my modmail about the hackathon?</td>\n",
       "      <td>community-requests</td>\n",
       "      <td>3</td>\n",
       "    </tr>\n",
       "    <tr>\n",
       "      <th>3</th>\n",
       "      <td>@admins i have a suggestion. python has some m...</td>\n",
       "      <td>community-requests</td>\n",
       "      <td>4</td>\n",
       "    </tr>\n",
       "    <tr>\n",
       "      <th>4</th>\n",
       "      <td>can we have a beginner channel</td>\n",
       "      <td>community-requests</td>\n",
       "      <td>5</td>\n",
       "    </tr>\n",
       "  </tbody>\n",
       "</table>\n",
       "</div>"
      ],
      "text/plain": [
       "                                           Utterance             Channel  ID\n",
       "0  separate category for the weekly topic to bett...  community-requests   1\n",
       "1  hey, i would like to ask if it's possible to g...  community-requests   2\n",
       "2      any update on my modmail about the hackathon?  community-requests   3\n",
       "3  @admins i have a suggestion. python has some m...  community-requests   4\n",
       "4                     can we have a beginner channel  community-requests   5"
      ]
     },
     "execution_count": 31,
     "metadata": {},
     "output_type": "execute_result"
    }
   ],
   "source": [
    "df.head(5)"
   ]
  },
  {
   "cell_type": "code",
   "execution_count": 32,
   "id": "thousand-combining",
   "metadata": {},
   "outputs": [],
   "source": [
    "### must meet the threshold of 5% false positives on detecting posts in the wrong channel and 90% accuracy in suggesting the correct channel\n",
    "\n",
    "# Splitting the values into testing and training data \n",
    "X_train, X_test, y_train, y_test= train_test_split(df[\"Utterance\"],\n",
    "                                                    df[\"Channel\"],\n",
    "                                                    test_size = 0.30, \n",
    "                                                    stratify = df[\"Channel\"],random_state=17) #preserve the distribution and enable reproducibility\n",
    "\n"
   ]
  },
  {
   "cell_type": "code",
   "execution_count": 33,
   "id": "cognitive-glenn",
   "metadata": {},
   "outputs": [],
   "source": [
    "## Using tfidf Vectorizer and sklearn.svm.LinearSVC\n",
    "vectorizer = TfidfVectorizer(stop_words='english')\n",
    "tfidf_train_x = vectorizer.fit_transform(X_train)\n",
    "tfidf_test_x = vectorizer.transform(X_test) #applying tf-idf to the test data"
   ]
  },
  {
   "cell_type": "code",
   "execution_count": 34,
   "id": "hollow-solid",
   "metadata": {},
   "outputs": [],
   "source": [
    "param_grid = {'C':[10,20,30]}"
   ]
  },
  {
   "cell_type": "code",
   "execution_count": 35,
   "id": "vanilla-expansion",
   "metadata": {},
   "outputs": [],
   "source": [
    "from sklearn.model_selection import GridSearchCV\n",
    "grid = GridSearchCV(LinearSVC(),param_grid,refit = True, verbose=1, cv=5)"
   ]
  },
  {
   "cell_type": "code",
   "execution_count": 36,
   "id": "unique-pledge",
   "metadata": {},
   "outputs": [
    {
     "name": "stdout",
     "output_type": "stream",
     "text": [
      "Fitting 5 folds for each of 3 candidates, totalling 15 fits\n"
     ]
    },
    {
     "name": "stderr",
     "output_type": "stream",
     "text": [
      "[Parallel(n_jobs=1)]: Using backend SequentialBackend with 1 concurrent workers.\n",
      "[Parallel(n_jobs=1)]: Done  15 out of  15 | elapsed:    0.1s finished\n"
     ]
    }
   ],
   "source": [
    "grid.fit(tfidf_train_x.toarray(),y_train);"
   ]
  },
  {
   "cell_type": "code",
   "execution_count": 37,
   "id": "veterinary-period",
   "metadata": {},
   "outputs": [
    {
     "data": {
      "text/plain": [
       "{'C': 10}"
      ]
     },
     "execution_count": 37,
     "metadata": {},
     "output_type": "execute_result"
    }
   ],
   "source": [
    "grid.best_params_"
   ]
  },
  {
   "cell_type": "code",
   "execution_count": 38,
   "id": "radical-collection",
   "metadata": {},
   "outputs": [
    {
     "data": {
      "text/plain": [
       "LinearSVC(C=10)"
      ]
     },
     "execution_count": 38,
     "metadata": {},
     "output_type": "execute_result"
    }
   ],
   "source": [
    "model = LinearSVC(C=10)\n",
    "model.fit(tfidf_train_x.toarray(),y_train)"
   ]
  },
  {
   "cell_type": "code",
   "execution_count": 39,
   "id": "cooperative-knife",
   "metadata": {},
   "outputs": [],
   "source": [
    "predictions = model.predict(tfidf_test_x.toarray())"
   ]
  },
  {
   "cell_type": "code",
   "execution_count": 40,
   "id": "protective-sheriff",
   "metadata": {},
   "outputs": [
    {
     "name": "stdout",
     "output_type": "stream",
     "text": [
      "0.5333333333333333\n"
     ]
    }
   ],
   "source": [
    "scores = cross_val_score(model, tfidf_test_x.toarray(), y_test, cv=5) #cross-validation\n",
    "print(scores.mean())"
   ]
  },
  {
   "cell_type": "code",
   "execution_count": 41,
   "id": "racial-democracy",
   "metadata": {},
   "outputs": [
    {
     "data": {
      "text/html": [
       "<div>\n",
       "<style scoped>\n",
       "    .dataframe tbody tr th:only-of-type {\n",
       "        vertical-align: middle;\n",
       "    }\n",
       "\n",
       "    .dataframe tbody tr th {\n",
       "        vertical-align: top;\n",
       "    }\n",
       "\n",
       "    .dataframe thead th {\n",
       "        text-align: right;\n",
       "    }\n",
       "</style>\n",
       "<table border=\"1\" class=\"dataframe\">\n",
       "  <thead>\n",
       "    <tr style=\"text-align: right;\">\n",
       "      <th></th>\n",
       "      <th>General</th>\n",
       "      <th>Introduction</th>\n",
       "      <th>Off-topic</th>\n",
       "      <th>Resources</th>\n",
       "      <th>Resume Review</th>\n",
       "      <th>community-requests</th>\n",
       "      <th>general-questions</th>\n",
       "      <th>member-generated-content</th>\n",
       "      <th>accuracy</th>\n",
       "      <th>macro avg</th>\n",
       "      <th>weighted avg</th>\n",
       "    </tr>\n",
       "  </thead>\n",
       "  <tbody>\n",
       "    <tr>\n",
       "      <th>precision</th>\n",
       "      <td>0.571429</td>\n",
       "      <td>0.636364</td>\n",
       "      <td>0.695652</td>\n",
       "      <td>0.545455</td>\n",
       "      <td>1.000000</td>\n",
       "      <td>0.727273</td>\n",
       "      <td>0.666667</td>\n",
       "      <td>1.0</td>\n",
       "      <td>0.711111</td>\n",
       "      <td>0.730355</td>\n",
       "      <td>0.725326</td>\n",
       "    </tr>\n",
       "    <tr>\n",
       "      <th>recall</th>\n",
       "      <td>0.571429</td>\n",
       "      <td>0.700000</td>\n",
       "      <td>0.888889</td>\n",
       "      <td>0.545455</td>\n",
       "      <td>0.428571</td>\n",
       "      <td>0.666667</td>\n",
       "      <td>0.615385</td>\n",
       "      <td>1.0</td>\n",
       "      <td>0.711111</td>\n",
       "      <td>0.677049</td>\n",
       "      <td>0.711111</td>\n",
       "    </tr>\n",
       "    <tr>\n",
       "      <th>f1-score</th>\n",
       "      <td>0.571429</td>\n",
       "      <td>0.666667</td>\n",
       "      <td>0.780488</td>\n",
       "      <td>0.545455</td>\n",
       "      <td>0.600000</td>\n",
       "      <td>0.695652</td>\n",
       "      <td>0.640000</td>\n",
       "      <td>1.0</td>\n",
       "      <td>0.711111</td>\n",
       "      <td>0.687461</td>\n",
       "      <td>0.706481</td>\n",
       "    </tr>\n",
       "    <tr>\n",
       "      <th>support</th>\n",
       "      <td>7.000000</td>\n",
       "      <td>10.000000</td>\n",
       "      <td>18.000000</td>\n",
       "      <td>11.000000</td>\n",
       "      <td>7.000000</td>\n",
       "      <td>12.000000</td>\n",
       "      <td>13.000000</td>\n",
       "      <td>12.0</td>\n",
       "      <td>0.711111</td>\n",
       "      <td>90.000000</td>\n",
       "      <td>90.000000</td>\n",
       "    </tr>\n",
       "  </tbody>\n",
       "</table>\n",
       "</div>"
      ],
      "text/plain": [
       "            General  Introduction  Off-topic  Resources  Resume Review  \\\n",
       "precision  0.571429      0.636364   0.695652   0.545455       1.000000   \n",
       "recall     0.571429      0.700000   0.888889   0.545455       0.428571   \n",
       "f1-score   0.571429      0.666667   0.780488   0.545455       0.600000   \n",
       "support    7.000000     10.000000  18.000000  11.000000       7.000000   \n",
       "\n",
       "           community-requests  general-questions  member-generated-content  \\\n",
       "precision            0.727273           0.666667                       1.0   \n",
       "recall               0.666667           0.615385                       1.0   \n",
       "f1-score             0.695652           0.640000                       1.0   \n",
       "support             12.000000          13.000000                      12.0   \n",
       "\n",
       "           accuracy  macro avg  weighted avg  \n",
       "precision  0.711111   0.730355      0.725326  \n",
       "recall     0.711111   0.677049      0.711111  \n",
       "f1-score   0.711111   0.687461      0.706481  \n",
       "support    0.711111  90.000000     90.000000  "
      ]
     },
     "execution_count": 41,
     "metadata": {},
     "output_type": "execute_result"
    }
   ],
   "source": [
    "pd.DataFrame(classification_report(y_test,predictions,output_dict=True))"
   ]
  },
  {
   "cell_type": "code",
   "execution_count": null,
   "id": "figured-spell",
   "metadata": {},
   "outputs": [],
   "source": []
  }
 ],
 "metadata": {
  "kernelspec": {
   "display_name": "Python 3",
   "language": "python",
   "name": "python3"
  },
  "language_info": {
   "codemirror_mode": {
    "name": "ipython",
    "version": 3
   },
   "file_extension": ".py",
   "mimetype": "text/x-python",
   "name": "python",
   "nbconvert_exporter": "python",
   "pygments_lexer": "ipython3",
   "version": "3.7.10"
  }
 },
 "nbformat": 4,
 "nbformat_minor": 5
}
