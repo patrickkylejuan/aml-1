{
 "cells": [
  {
   "cell_type": "markdown",
   "id": "growing-arizona",
   "metadata": {},
   "source": [
    "# Building a Discord Post Classifier using SVM"
   ]
  },
  {
   "cell_type": "markdown",
   "id": "cellular-rocket",
   "metadata": {},
   "source": [
    "Launch a DSEG moderator bot in discord that helps members post in the right channel. The bot will detect if a member has posted in the correct channel. If it finds that the post is in the wrong channel, it will suggest a correct channel from among the channels in the Community or Help categories. The bot will be active in discord for one week after project deadline, but can stay alive if members like it."
   ]
  },
  {
   "cell_type": "markdown",
   "id": "maritime-zimbabwe",
   "metadata": {},
   "source": [
    "## Acceptance Criteria"
   ]
  },
  {
   "cell_type": "markdown",
   "id": "duplicate-clear",
   "metadata": {},
   "source": [
    "For the bot to be enabled in DSEG, it must meet the threshold of 5% false positives on detecting posts in the wrong channel and 90% accuracy in suggesting the correct channel. A test dataset of 50 utterances has been withheld and will be used to evaluate your project upon submission. The test dataset has 3 fields: utterance, guessed-channel, true-channel. Your bot (or model) must determine if guessed channel is false with 95% specificity, and identify the true channel with 90% accuracy. There will be a leaderboard showing the performance rankings of all participants."
   ]
  },
  {
   "cell_type": "markdown",
   "id": "surface-observation",
   "metadata": {},
   "source": [
    "## Datasets"
   ]
  },
  {
   "cell_type": "markdown",
   "id": "retained-johns",
   "metadata": {},
   "source": [
    "In this repo is utterance-channel-dataset.csv, a dataset consisting of 300 posts and the corresponding appropriate channel for each post."
   ]
  },
  {
   "cell_type": "markdown",
   "id": "moving-bolivia",
   "metadata": {},
   "source": [
    "## Plan"
   ]
  },
  {
   "cell_type": "markdown",
   "id": "flexible-smooth",
   "metadata": {},
   "source": [
    "The plan is to preprocess your text data using TF-IDF (NLP), build a classifier using an SVM (ML), run your code in a Jupyter notebook, and leverage functions from SKLearn. Resources are available below to explain all the above concepts. If you have the time and motivation, a good challenge is to implement SVMs with stochastic gradient descent from scratch. If there is time permitting build a Flask, run it in AWS, use the Discord API, and deploy your moderator bot in our server. Keep in mind that at the halfway point and at completion you will present your work to the community. Make sure to have some progress and work to show at each point to stay accountable and to provide teaching for more novice members of the community."
   ]
  },
  {
   "cell_type": "markdown",
   "id": "opponent-difference",
   "metadata": {},
   "source": [
    "## Methodology"
   ]
  },
  {
   "cell_type": "markdown",
   "id": "dense-edmonton",
   "metadata": {},
   "source": [
    "### Loading the dataset and initial EDA"
   ]
  },
  {
   "cell_type": "code",
   "execution_count": 11,
   "id": "german-newman",
   "metadata": {},
   "outputs": [],
   "source": [
    "# Importing libraries\n",
    "%matplotlib inline\n",
    "\n",
    "import matplotlib.pylab as plt\n",
    "import numpy as np\n",
    "import pandas as pd\n",
    "import seaborn as sns\n",
    "from sklearn.metrics import confusion_matrix\n",
    "from sklearn.metrics import classification_report\n",
    "from sklearn.model_selection import train_test_split\n",
    "from sklearn.feature_extraction.text import TfidfVectorizer\n",
    "from sklearn.svm import LinearSVC\n",
    "from sklearn.model_selection import train_test_split, cross_val_score"
   ]
  },
  {
   "cell_type": "code",
   "execution_count": 2,
   "id": "opposed-wedding",
   "metadata": {},
   "outputs": [],
   "source": [
    "# Saving the CSV dataset to a pandas DF\n",
    "df = pd.read_csv('data/utterance-channel-dataset.csv')"
   ]
  },
  {
   "cell_type": "code",
   "execution_count": 3,
   "id": "diagnostic-library",
   "metadata": {},
   "outputs": [
    {
     "data": {
      "text/plain": [
       "(300, 3)"
      ]
     },
     "execution_count": 3,
     "metadata": {},
     "output_type": "execute_result"
    }
   ],
   "source": [
    "df.shape"
   ]
  },
  {
   "cell_type": "code",
   "execution_count": 4,
   "id": "figured-facial",
   "metadata": {},
   "outputs": [
    {
     "data": {
      "text/html": [
       "<div>\n",
       "<style scoped>\n",
       "    .dataframe tbody tr th:only-of-type {\n",
       "        vertical-align: middle;\n",
       "    }\n",
       "\n",
       "    .dataframe tbody tr th {\n",
       "        vertical-align: top;\n",
       "    }\n",
       "\n",
       "    .dataframe thead th {\n",
       "        text-align: right;\n",
       "    }\n",
       "</style>\n",
       "<table border=\"1\" class=\"dataframe\">\n",
       "  <thead>\n",
       "    <tr style=\"text-align: right;\">\n",
       "      <th></th>\n",
       "      <th>Utterance</th>\n",
       "      <th>Channel</th>\n",
       "      <th>ID</th>\n",
       "    </tr>\n",
       "  </thead>\n",
       "  <tbody>\n",
       "    <tr>\n",
       "      <th>0</th>\n",
       "      <td>Separate Category for the Weekly Topic To bett...</td>\n",
       "      <td>community-requests</td>\n",
       "      <td>1</td>\n",
       "    </tr>\n",
       "    <tr>\n",
       "      <th>1</th>\n",
       "      <td>hey, i would like to ask if it's possible to g...</td>\n",
       "      <td>community-requests</td>\n",
       "      <td>2</td>\n",
       "    </tr>\n",
       "    <tr>\n",
       "      <th>2</th>\n",
       "      <td>Any update on my ModMail about the hackathon?</td>\n",
       "      <td>community-requests</td>\n",
       "      <td>3</td>\n",
       "    </tr>\n",
       "    <tr>\n",
       "      <th>3</th>\n",
       "      <td>@Admins I have a suggestion. Python has some m...</td>\n",
       "      <td>community-requests</td>\n",
       "      <td>4</td>\n",
       "    </tr>\n",
       "    <tr>\n",
       "      <th>4</th>\n",
       "      <td>Can we have a beginner channel</td>\n",
       "      <td>community-requests</td>\n",
       "      <td>5</td>\n",
       "    </tr>\n",
       "    <tr>\n",
       "      <th>5</th>\n",
       "      <td>Channel Rename We've changed #async-and-concur...</td>\n",
       "      <td>community-requests</td>\n",
       "      <td>6</td>\n",
       "    </tr>\n",
       "    <tr>\n",
       "      <th>6</th>\n",
       "      <td>FAQ Update We've updated the Frequently Asked ...</td>\n",
       "      <td>community-requests</td>\n",
       "      <td>7</td>\n",
       "    </tr>\n",
       "    <tr>\n",
       "      <th>7</th>\n",
       "      <td>February data review We've published our Febru...</td>\n",
       "      <td>community-requests</td>\n",
       "      <td>8</td>\n",
       "    </tr>\n",
       "    <tr>\n",
       "      <th>8</th>\n",
       "      <td>Food names We've changed the names of our help...</td>\n",
       "      <td>community-requests</td>\n",
       "      <td>9</td>\n",
       "    </tr>\n",
       "    <tr>\n",
       "      <th>9</th>\n",
       "      <td>Hey, I see you asked in #python-general. Pytho...</td>\n",
       "      <td>community-requests</td>\n",
       "      <td>10</td>\n",
       "    </tr>\n",
       "  </tbody>\n",
       "</table>\n",
       "</div>"
      ],
      "text/plain": [
       "                                           Utterance             Channel  ID\n",
       "0  Separate Category for the Weekly Topic To bett...  community-requests   1\n",
       "1  hey, i would like to ask if it's possible to g...  community-requests   2\n",
       "2      Any update on my ModMail about the hackathon?  community-requests   3\n",
       "3  @Admins I have a suggestion. Python has some m...  community-requests   4\n",
       "4                     Can we have a beginner channel  community-requests   5\n",
       "5  Channel Rename We've changed #async-and-concur...  community-requests   6\n",
       "6  FAQ Update We've updated the Frequently Asked ...  community-requests   7\n",
       "7  February data review We've published our Febru...  community-requests   8\n",
       "8  Food names We've changed the names of our help...  community-requests   9\n",
       "9  Hey, I see you asked in #python-general. Pytho...  community-requests  10"
      ]
     },
     "execution_count": 4,
     "metadata": {},
     "output_type": "execute_result"
    }
   ],
   "source": [
    "df.head(10)"
   ]
  },
  {
   "cell_type": "code",
   "execution_count": 5,
   "id": "christian-arnold",
   "metadata": {},
   "outputs": [
    {
     "data": {
      "text/plain": [
       "Off-topic                   0.203333\n",
       "general-questions           0.140000\n",
       "community-requests          0.133333\n",
       "member-generated-content    0.130000\n",
       "Introduction                0.116667\n",
       "Resources                   0.116667\n",
       "Resume Review               0.083333\n",
       "General                     0.076667\n",
       "Name: Channel, dtype: float64"
      ]
     },
     "execution_count": 5,
     "metadata": {},
     "output_type": "execute_result"
    }
   ],
   "source": [
    "df['Channel'].value_counts(normalize=True)"
   ]
  },
  {
   "cell_type": "code",
   "execution_count": 6,
   "id": "asian-genesis",
   "metadata": {},
   "outputs": [
    {
     "data": {
      "image/png": "[encoded data removed]",
      "text/plain": [
       "<Figure size 1008x576 with 1 Axes>"
      ]
     },
     "metadata": {},
     "output_type": "display_data"
    }
   ],
   "source": [
    "# Visualizing proportion of posts in the DF\n",
    "plt.style.use('fivethirtyeight')\n",
    "plt.figure(figsize=(14,8))\n",
    "\n",
    "df_2 = df.groupby('Channel').count()\n",
    "df_2.reset_index(inplace=True)\n",
    "sns.barplot(x='Utterance', y='Channel', data=df_2);\n",
    "## Edit these to get percentages "
   ]
  },
  {
   "cell_type": "markdown",
   "id": "norman-rally",
   "metadata": {},
   "source": [
    "### Preprocessing Text Data"
   ]
  },
  {
   "cell_type": "code",
   "execution_count": null,
   "id": "rapid-prophet",
   "metadata": {},
   "outputs": [],
   "source": []
  },
  {
   "cell_type": "markdown",
   "id": "romantic-remove",
   "metadata": {},
   "source": [
    "### Building the SVM Model"
   ]
  },
  {
   "cell_type": "code",
   "execution_count": 7,
   "id": "general-group",
   "metadata": {},
   "outputs": [
    {
     "data": {
      "text/html": [
       "<div>\n",
       "<style scoped>\n",
       "    .dataframe tbody tr th:only-of-type {\n",
       "        vertical-align: middle;\n",
       "    }\n",
       "\n",
       "    .dataframe tbody tr th {\n",
       "        vertical-align: top;\n",
       "    }\n",
       "\n",
       "    .dataframe thead th {\n",
       "        text-align: right;\n",
       "    }\n",
       "</style>\n",
       "<table border=\"1\" class=\"dataframe\">\n",
       "  <thead>\n",
       "    <tr style=\"text-align: right;\">\n",
       "      <th></th>\n",
       "      <th>Utterance</th>\n",
       "      <th>Channel</th>\n",
       "      <th>ID</th>\n",
       "    </tr>\n",
       "  </thead>\n",
       "  <tbody>\n",
       "    <tr>\n",
       "      <th>0</th>\n",
       "      <td>Separate Category for the Weekly Topic To bett...</td>\n",
       "      <td>community-requests</td>\n",
       "      <td>1</td>\n",
       "    </tr>\n",
       "    <tr>\n",
       "      <th>1</th>\n",
       "      <td>hey, i would like to ask if it's possible to g...</td>\n",
       "      <td>community-requests</td>\n",
       "      <td>2</td>\n",
       "    </tr>\n",
       "    <tr>\n",
       "      <th>2</th>\n",
       "      <td>Any update on my ModMail about the hackathon?</td>\n",
       "      <td>community-requests</td>\n",
       "      <td>3</td>\n",
       "    </tr>\n",
       "  </tbody>\n",
       "</table>\n",
       "</div>"
      ],
      "text/plain": [
       "                                           Utterance             Channel  ID\n",
       "0  Separate Category for the Weekly Topic To bett...  community-requests   1\n",
       "1  hey, i would like to ask if it's possible to g...  community-requests   2\n",
       "2      Any update on my ModMail about the hackathon?  community-requests   3"
      ]
     },
     "execution_count": 7,
     "metadata": {},
     "output_type": "execute_result"
    }
   ],
   "source": [
    "df.head(3)"
   ]
  },
  {
   "cell_type": "markdown",
   "id": "adjustable-metadata",
   "metadata": {},
   "source": [
    "Baseline model performance using data that is not preprocessed and default parameters of svm.LinearSVC"
   ]
  },
  {
   "cell_type": "code",
   "execution_count": 12,
   "id": "casual-times",
   "metadata": {},
   "outputs": [
    {
     "name": "stdout",
     "output_type": "stream",
     "text": [
      "(90, 1435)\n",
      "Accuracy: 56.67 percent\n"
     ]
    }
   ],
   "source": [
    "### must meet the threshold of 5% false positives on detecting posts in the wrong channel and 90% accuracy in suggesting the correct channel\n",
    "\n",
    "# Splitting the values into testing and training data \n",
    "X_train, X_test, y_train, y_train = train_test_split(df[\"Utterance\"],\n",
    "                                                    df[\"Channel\"],\n",
    "                                                    test_size = 0.30, \n",
    "                                                    stratify = df[\"Channel\"],random_state=17) #preserve the distribution and enable reproducibility\n",
    "\n",
    "## Using tfidf Vectorizer and sklearn.svm.LinearSVC\n",
    "vectorizer = TfidfVectorizer(stop_words='english')\n",
    "tfidf_train_x = vectorizer.fit_transform(train_x)\n",
    "classifier = LinearSVC()\n",
    "classifier.fit(tfidf_train_x.toarray(), train_y)\n",
    "tfidf_test_x = vectorizer.transform(test_x) #applying tf-idf to the test data\n",
    "print(tfidf_test_x.shape)\n",
    "scores = cross_val_score(classifier, tfidf_test_x.toarray(), test_y, cv=5) #cross-validation\n",
    "acc = scores.mean()\n",
    "print(\"Accuracy: %0.2f percent\" % (acc *100))\n"
   ]
  },
  {
   "cell_type": "code",
   "execution_count": null,
   "id": "amended-wallet",
   "metadata": {},
   "outputs": [],
   "source": []
  }
 ],
 "metadata": {
  "kernelspec": {
   "display_name": "Python 3",
   "language": "python",
   "name": "python3"
  },
  "language_info": {
   "codemirror_mode": {
    "name": "ipython",
    "version": 3
   },
   "file_extension": ".py",
   "mimetype": "text/x-python",
   "name": "python",
   "nbconvert_exporter": "python",
   "pygments_lexer": "ipython3",
   "version": "3.7.10"
  }
 },
 "nbformat": 4,
 "nbformat_minor": 5
}
